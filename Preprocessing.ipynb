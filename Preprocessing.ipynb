{
 "cells": [
  {
   "cell_type": "code",
   "execution_count": 1,
   "id": "8d57fa14",
   "metadata": {},
   "outputs": [],
   "source": [
    "import pandas as pd"
   ]
  },
  {
   "cell_type": "code",
   "execution_count": 2,
   "id": "101cd1e2",
   "metadata": {},
   "outputs": [],
   "source": [
    "ACC = pd.read_csv(\"ACC 3.csv\")"
   ]
  },
  {
   "cell_type": "code",
   "execution_count": 3,
   "id": "32ba11d8",
   "metadata": {},
   "outputs": [
    {
     "data": {
      "text/plain": [
       "3373"
      ]
     },
     "execution_count": 3,
     "metadata": {},
     "output_type": "execute_result"
    }
   ],
   "source": [
    "len(ACC)"
   ]
  },
  {
   "cell_type": "code",
   "execution_count": 4,
   "id": "671e8c84",
   "metadata": {},
   "outputs": [],
   "source": [
    "label = []\n",
    "for i in range(len(ACC)):\n",
    "    if i<563:\n",
    "        label.append(\"Walking\")\n",
    "    elif i<1125:\n",
    "        label.append(\"Jogging\")\n",
    "    elif i<1687:\n",
    "        label.append(\"Upstairs\")\n",
    "    elif i<2250:\n",
    "        label.append(\"Downstairs\")\n",
    "    elif i<2813:\n",
    "        label.append(\"Sitting\")\n",
    "    else:\n",
    "        label.append(\"Standing\")"
   ]
  },
  {
   "cell_type": "code",
   "execution_count": 5,
   "id": "42ce01ef",
   "metadata": {},
   "outputs": [],
   "source": [
    "ACC[\"Label\"] = label"
   ]
  },
  {
   "cell_type": "code",
   "execution_count": 6,
   "id": "414a6476",
   "metadata": {},
   "outputs": [],
   "source": [
    "df = ACC"
   ]
  },
  {
   "cell_type": "code",
   "execution_count": 7,
   "id": "a9825c98",
   "metadata": {},
   "outputs": [
    {
     "data": {
      "text/html": [
       "<div>\n",
       "<style scoped>\n",
       "    .dataframe tbody tr th:only-of-type {\n",
       "        vertical-align: middle;\n",
       "    }\n",
       "\n",
       "    .dataframe tbody tr th {\n",
       "        vertical-align: top;\n",
       "    }\n",
       "\n",
       "    .dataframe thead th {\n",
       "        text-align: right;\n",
       "    }\n",
       "</style>\n",
       "<table border=\"1\" class=\"dataframe\">\n",
       "  <thead>\n",
       "    <tr style=\"text-align: right;\">\n",
       "      <th></th>\n",
       "      <th>x</th>\n",
       "      <th>y</th>\n",
       "      <th>z</th>\n",
       "      <th>time</th>\n",
       "      <th>Label</th>\n",
       "    </tr>\n",
       "  </thead>\n",
       "  <tbody>\n",
       "    <tr>\n",
       "      <th>0</th>\n",
       "      <td>-0.030991</td>\n",
       "      <td>-0.079529</td>\n",
       "      <td>-0.999161</td>\n",
       "      <td>1669505391964</td>\n",
       "      <td>Walking</td>\n",
       "    </tr>\n",
       "    <tr>\n",
       "      <th>1</th>\n",
       "      <td>-0.027954</td>\n",
       "      <td>-0.081085</td>\n",
       "      <td>-0.995300</td>\n",
       "      <td>1669505392064</td>\n",
       "      <td>Walking</td>\n",
       "    </tr>\n",
       "    <tr>\n",
       "      <th>2</th>\n",
       "      <td>-0.027161</td>\n",
       "      <td>-0.078690</td>\n",
       "      <td>-0.975204</td>\n",
       "      <td>1669505392163</td>\n",
       "      <td>Walking</td>\n",
       "    </tr>\n",
       "    <tr>\n",
       "      <th>3</th>\n",
       "      <td>-0.025330</td>\n",
       "      <td>-0.077438</td>\n",
       "      <td>-0.997559</td>\n",
       "      <td>1669505392267</td>\n",
       "      <td>Walking</td>\n",
       "    </tr>\n",
       "    <tr>\n",
       "      <th>4</th>\n",
       "      <td>-0.028198</td>\n",
       "      <td>-0.081253</td>\n",
       "      <td>-0.996780</td>\n",
       "      <td>1669505392367</td>\n",
       "      <td>Walking</td>\n",
       "    </tr>\n",
       "    <tr>\n",
       "      <th>...</th>\n",
       "      <td>...</td>\n",
       "      <td>...</td>\n",
       "      <td>...</td>\n",
       "      <td>...</td>\n",
       "      <td>...</td>\n",
       "    </tr>\n",
       "    <tr>\n",
       "      <th>3368</th>\n",
       "      <td>-0.074142</td>\n",
       "      <td>-0.479630</td>\n",
       "      <td>-0.990356</td>\n",
       "      <td>1669506026079</td>\n",
       "      <td>Standing</td>\n",
       "    </tr>\n",
       "    <tr>\n",
       "      <th>3369</th>\n",
       "      <td>-0.099014</td>\n",
       "      <td>-0.519104</td>\n",
       "      <td>-0.901215</td>\n",
       "      <td>1669506026179</td>\n",
       "      <td>Standing</td>\n",
       "    </tr>\n",
       "    <tr>\n",
       "      <th>3370</th>\n",
       "      <td>-0.145294</td>\n",
       "      <td>-0.384933</td>\n",
       "      <td>-0.794464</td>\n",
       "      <td>1669506026280</td>\n",
       "      <td>Standing</td>\n",
       "    </tr>\n",
       "    <tr>\n",
       "      <th>3371</th>\n",
       "      <td>-0.110672</td>\n",
       "      <td>-0.458038</td>\n",
       "      <td>-0.847488</td>\n",
       "      <td>1669506026380</td>\n",
       "      <td>Standing</td>\n",
       "    </tr>\n",
       "    <tr>\n",
       "      <th>3372</th>\n",
       "      <td>-0.211548</td>\n",
       "      <td>-0.453842</td>\n",
       "      <td>-0.737381</td>\n",
       "      <td>1669506026481</td>\n",
       "      <td>Standing</td>\n",
       "    </tr>\n",
       "  </tbody>\n",
       "</table>\n",
       "<p>3373 rows × 5 columns</p>\n",
       "</div>"
      ],
      "text/plain": [
       "             x         y         z           time     Label\n",
       "0    -0.030991 -0.079529 -0.999161  1669505391964   Walking\n",
       "1    -0.027954 -0.081085 -0.995300  1669505392064   Walking\n",
       "2    -0.027161 -0.078690 -0.975204  1669505392163   Walking\n",
       "3    -0.025330 -0.077438 -0.997559  1669505392267   Walking\n",
       "4    -0.028198 -0.081253 -0.996780  1669505392367   Walking\n",
       "...        ...       ...       ...            ...       ...\n",
       "3368 -0.074142 -0.479630 -0.990356  1669506026079  Standing\n",
       "3369 -0.099014 -0.519104 -0.901215  1669506026179  Standing\n",
       "3370 -0.145294 -0.384933 -0.794464  1669506026280  Standing\n",
       "3371 -0.110672 -0.458038 -0.847488  1669506026380  Standing\n",
       "3372 -0.211548 -0.453842 -0.737381  1669506026481  Standing\n",
       "\n",
       "[3373 rows x 5 columns]"
      ]
     },
     "execution_count": 7,
     "metadata": {},
     "output_type": "execute_result"
    }
   ],
   "source": [
    "df"
   ]
  },
  {
   "cell_type": "code",
   "execution_count": null,
   "id": "a56d05dc",
   "metadata": {},
   "outputs": [],
   "source": []
  }
 ],
 "metadata": {
  "kernelspec": {
   "display_name": "Python 3",
   "language": "python",
   "name": "python3"
  },
  "language_info": {
   "codemirror_mode": {
    "name": "ipython",
    "version": 3
   },
   "file_extension": ".py",
   "mimetype": "text/x-python",
   "name": "python",
   "nbconvert_exporter": "python",
   "pygments_lexer": "ipython3",
   "version": "3.8.8"
  }
 },
 "nbformat": 4,
 "nbformat_minor": 5
}
