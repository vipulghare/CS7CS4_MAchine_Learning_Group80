{
 "cells": [
  {
   "cell_type": "code",
   "execution_count": 110,
   "id": "ccfeaade",
   "metadata": {},
   "outputs": [],
   "source": [
    "import pandas as pd\n",
    "import seaborn as sb"
   ]
  },
  {
   "cell_type": "code",
   "execution_count": 148,
   "id": "01f03b5c",
   "metadata": {},
   "outputs": [],
   "source": [
    "def sit_data(acc,gyr):    \n",
    "    ACC = pd.read_csv(acc)\n",
    "    GYR = pd.read_csv(gyr)\n",
    "    ACC = ACC.rename(columns={\"x\":\"accx\",\"y\":\"accy\",\"z\":\"accz\"})\n",
    "    GYR = GYR.rename(columns={\"x\":\"gyrx\",\"y\":\"gyry\",\"z\":\"gyrz\"})\n",
    "    temptime = []\n",
    "    for i in range(len(ACC)):\n",
    "        temptime.append(int(ACC[\"time\"][i]/10))\n",
    "    ACC['UpdatedTime'] = temptime\n",
    "    ACC = ACC.drop(columns=[\"time\"])\n",
    "    temptime = []\n",
    "    for i in range(len(GYR)):\n",
    "        temptime.append(int(GYR[\"time\"][i]/10))\n",
    "    GYR['UpdatedTime'] = temptime\n",
    "    GYR = GYR.drop(columns=[\"time\"])\n",
    "    return pd.merge(ACC, GYR, on='UpdatedTime')"
   ]
  },
  {
   "cell_type": "code",
   "execution_count": 150,
   "id": "c3a7ff1b",
   "metadata": {},
   "outputs": [],
   "source": [
    "df1 = sit_data(\"ACC1.csv\",\"GYR1.csv\")"
   ]
  },
  {
   "cell_type": "code",
   "execution_count": 151,
   "id": "46ab08f0",
   "metadata": {},
   "outputs": [],
   "source": [
    "df2 = sit_data(\"ACC2.csv\",\"GYR2.csv\")"
   ]
  },
  {
   "cell_type": "code",
   "execution_count": 152,
   "id": "ea848420",
   "metadata": {},
   "outputs": [],
   "source": [
    "df3 = sit_data(\"ACC3.csv\",\"GYR3.csv\")"
   ]
  },
  {
   "cell_type": "code",
   "execution_count": 153,
   "id": "fce4037c",
   "metadata": {},
   "outputs": [],
   "source": [
    "df4 = sit_data(\"ACC4.csv\",\"GYR4.csv\")"
   ]
  },
  {
   "cell_type": "code",
   "execution_count": 154,
   "id": "56ee76df",
   "metadata": {},
   "outputs": [],
   "source": [
    "df5 = sit_data(\"ACC5.csv\",\"GYR5.csv\")"
   ]
  },
  {
   "cell_type": "code",
   "execution_count": 155,
   "id": "a0a7871d",
   "metadata": {},
   "outputs": [],
   "source": [
    "SITDF = pd.concat([df1,df2,df3,df4,df5,df5])"
   ]
  },
  {
   "cell_type": "code",
   "execution_count": 156,
   "id": "9c7e77f3",
   "metadata": {},
   "outputs": [
    {
     "data": {
      "text/html": [
       "<div>\n",
       "<style scoped>\n",
       "    .dataframe tbody tr th:only-of-type {\n",
       "        vertical-align: middle;\n",
       "    }\n",
       "\n",
       "    .dataframe tbody tr th {\n",
       "        vertical-align: top;\n",
       "    }\n",
       "\n",
       "    .dataframe thead th {\n",
       "        text-align: right;\n",
       "    }\n",
       "</style>\n",
       "<table border=\"1\" class=\"dataframe\">\n",
       "  <thead>\n",
       "    <tr style=\"text-align: right;\">\n",
       "      <th></th>\n",
       "      <th>accz</th>\n",
       "      <th>accy</th>\n",
       "      <th>accx</th>\n",
       "      <th>UpdatedTime</th>\n",
       "      <th>gyrz</th>\n",
       "      <th>gyry</th>\n",
       "      <th>gyrx</th>\n",
       "    </tr>\n",
       "  </thead>\n",
       "  <tbody>\n",
       "    <tr>\n",
       "      <th>0</th>\n",
       "      <td>0.971081</td>\n",
       "      <td>-0.110848</td>\n",
       "      <td>-0.048335</td>\n",
       "      <td>166982389308</td>\n",
       "      <td>0.009900</td>\n",
       "      <td>-0.014162</td>\n",
       "      <td>0.010038</td>\n",
       "    </tr>\n",
       "    <tr>\n",
       "      <th>1</th>\n",
       "      <td>0.970561</td>\n",
       "      <td>-0.105434</td>\n",
       "      <td>-0.044251</td>\n",
       "      <td>166982389313</td>\n",
       "      <td>0.009900</td>\n",
       "      <td>0.002887</td>\n",
       "      <td>0.012100</td>\n",
       "    </tr>\n",
       "    <tr>\n",
       "      <th>2</th>\n",
       "      <td>0.972809</td>\n",
       "      <td>-0.104516</td>\n",
       "      <td>-0.044465</td>\n",
       "      <td>166982389318</td>\n",
       "      <td>0.014162</td>\n",
       "      <td>0.008250</td>\n",
       "      <td>0.004675</td>\n",
       "    </tr>\n",
       "    <tr>\n",
       "      <th>3</th>\n",
       "      <td>0.970561</td>\n",
       "      <td>-0.107682</td>\n",
       "      <td>-0.049558</td>\n",
       "      <td>166982389324</td>\n",
       "      <td>0.013200</td>\n",
       "      <td>0.005087</td>\n",
       "      <td>0.006875</td>\n",
       "    </tr>\n",
       "    <tr>\n",
       "      <th>4</th>\n",
       "      <td>0.974752</td>\n",
       "      <td>-0.113081</td>\n",
       "      <td>-0.051501</td>\n",
       "      <td>166982389329</td>\n",
       "      <td>0.005637</td>\n",
       "      <td>0.011412</td>\n",
       "      <td>0.005775</td>\n",
       "    </tr>\n",
       "    <tr>\n",
       "      <th>...</th>\n",
       "      <td>...</td>\n",
       "      <td>...</td>\n",
       "      <td>...</td>\n",
       "      <td>...</td>\n",
       "      <td>...</td>\n",
       "      <td>...</td>\n",
       "      <td>...</td>\n",
       "    </tr>\n",
       "    <tr>\n",
       "      <th>1250</th>\n",
       "      <td>0.983516</td>\n",
       "      <td>-0.107483</td>\n",
       "      <td>-0.151627</td>\n",
       "      <td>166983801277</td>\n",
       "      <td>0.003437</td>\n",
       "      <td>-0.037538</td>\n",
       "      <td>-0.006050</td>\n",
       "    </tr>\n",
       "    <tr>\n",
       "      <th>1251</th>\n",
       "      <td>0.948137</td>\n",
       "      <td>-0.099422</td>\n",
       "      <td>-0.159489</td>\n",
       "      <td>166983801282</td>\n",
       "      <td>0.000137</td>\n",
       "      <td>-0.003437</td>\n",
       "      <td>-0.011412</td>\n",
       "    </tr>\n",
       "    <tr>\n",
       "      <th>1252</th>\n",
       "      <td>0.960772</td>\n",
       "      <td>-0.104011</td>\n",
       "      <td>-0.155512</td>\n",
       "      <td>166983801288</td>\n",
       "      <td>-0.003025</td>\n",
       "      <td>0.011412</td>\n",
       "      <td>-0.000825</td>\n",
       "    </tr>\n",
       "    <tr>\n",
       "      <th>1253</th>\n",
       "      <td>0.960068</td>\n",
       "      <td>-0.106260</td>\n",
       "      <td>-0.158663</td>\n",
       "      <td>166983801293</td>\n",
       "      <td>-0.004125</td>\n",
       "      <td>-0.007700</td>\n",
       "      <td>-0.003987</td>\n",
       "    </tr>\n",
       "    <tr>\n",
       "      <th>1254</th>\n",
       "      <td>0.974446</td>\n",
       "      <td>-0.130626</td>\n",
       "      <td>-0.170395</td>\n",
       "      <td>166983801304</td>\n",
       "      <td>-0.014712</td>\n",
       "      <td>-1.009112</td>\n",
       "      <td>0.482900</td>\n",
       "    </tr>\n",
       "  </tbody>\n",
       "</table>\n",
       "<p>8457 rows × 7 columns</p>\n",
       "</div>"
      ],
      "text/plain": [
       "          accz      accy      accx   UpdatedTime      gyrz      gyry      gyrx\n",
       "0     0.971081 -0.110848 -0.048335  166982389308  0.009900 -0.014162  0.010038\n",
       "1     0.970561 -0.105434 -0.044251  166982389313  0.009900  0.002887  0.012100\n",
       "2     0.972809 -0.104516 -0.044465  166982389318  0.014162  0.008250  0.004675\n",
       "3     0.970561 -0.107682 -0.049558  166982389324  0.013200  0.005087  0.006875\n",
       "4     0.974752 -0.113081 -0.051501  166982389329  0.005637  0.011412  0.005775\n",
       "...        ...       ...       ...           ...       ...       ...       ...\n",
       "1250  0.983516 -0.107483 -0.151627  166983801277  0.003437 -0.037538 -0.006050\n",
       "1251  0.948137 -0.099422 -0.159489  166983801282  0.000137 -0.003437 -0.011412\n",
       "1252  0.960772 -0.104011 -0.155512  166983801288 -0.003025  0.011412 -0.000825\n",
       "1253  0.960068 -0.106260 -0.158663  166983801293 -0.004125 -0.007700 -0.003987\n",
       "1254  0.974446 -0.130626 -0.170395  166983801304 -0.014712 -1.009112  0.482900\n",
       "\n",
       "[8457 rows x 7 columns]"
      ]
     },
     "execution_count": 156,
     "metadata": {},
     "output_type": "execute_result"
    }
   ],
   "source": [
    "SITDF"
   ]
  },
  {
   "cell_type": "code",
   "execution_count": 157,
   "id": "9d717211",
   "metadata": {},
   "outputs": [],
   "source": [
    "SITDF.index = range(0,len(SITDF),1)"
   ]
  },
  {
   "cell_type": "code",
   "execution_count": 158,
   "id": "6d6f7964",
   "metadata": {},
   "outputs": [],
   "source": [
    "plotsitdf =  SITDF.iloc[0:1000,:]"
   ]
  },
  {
   "cell_type": "code",
   "execution_count": 159,
   "id": "597a5b32",
   "metadata": {},
   "outputs": [
    {
     "data": {
      "text/plain": [
       "<AxesSubplot:xlabel='UpdatedTime', ylabel='accx'>"
      ]
     },
     "execution_count": 159,
     "metadata": {},
     "output_type": "execute_result"
    },
    {
     "data": {
      "image/png": "[encoded data removed]",
      "text/plain": [
       "<Figure size 432x288 with 1 Axes>"
      ]
     },
     "metadata": {
      "needs_background": "light"
     },
     "output_type": "display_data"
    }
   ],
   "source": [
    "sb.lineplot(y = 'accx', x = 'UpdatedTime', data = plotsitdf)\n",
    "sb.lineplot(y = 'accy', x = 'UpdatedTime', data = plotsitdf)\n",
    "sb.lineplot(y = 'accz', x = 'UpdatedTime', data = plotsitdf)"
   ]
  },
  {
   "cell_type": "code",
   "execution_count": 160,
   "id": "9d8f7781",
   "metadata": {},
   "outputs": [
    {
     "data": {
      "text/plain": [
       "<AxesSubplot:xlabel='UpdatedTime', ylabel='gyrx'>"
      ]
     },
     "execution_count": 160,
     "metadata": {},
     "output_type": "execute_result"
    },
    {
     "data": {
      "image/png": "[encoded data removed]",
      "text/plain": [
       "<Figure size 432x288 with 1 Axes>"
      ]
     },
     "metadata": {
      "needs_background": "light"
     },
     "output_type": "display_data"
    }
   ],
   "source": [
    "sb.lineplot(y = 'gyrx', x = 'UpdatedTime', data = plotsitdf)\n",
    "sb.lineplot(y = 'gyry', x = 'UpdatedTime', data = plotsitdf)\n",
    "sb.lineplot(y = 'gyrz', x = 'UpdatedTime', data = plotsitdf)"
   ]
  },
  {
   "cell_type": "code",
   "execution_count": 161,
   "id": "09d0ff87",
   "metadata": {},
   "outputs": [],
   "source": [
    "Label = []\n",
    "for i in range(len(SITDF)):\n",
    "    Label.append(\"sitting\")"
   ]
  },
  {
   "cell_type": "code",
   "execution_count": 162,
   "id": "a4d926f2",
   "metadata": {},
   "outputs": [],
   "source": [
    "SITDF[\"Label\"] = Label"
   ]
  },
  {
   "cell_type": "code",
   "execution_count": 165,
   "id": "ee2c79cf",
   "metadata": {},
   "outputs": [],
   "source": [
    "SITDF.to_csv(\"SIT.csv\",index=False)"
   ]
  },
  {
   "cell_type": "code",
   "execution_count": null,
   "id": "25815870",
   "metadata": {},
   "outputs": [],
   "source": []
  }
 ],
 "metadata": {
  "kernelspec": {
   "display_name": "Python 3 (ipykernel)",
   "language": "python",
   "name": "python3"
  },
  "language_info": {
   "codemirror_mode": {
    "name": "ipython",
    "version": 3
   },
   "file_extension": ".py",
   "mimetype": "text/x-python",
   "name": "python",
   "nbconvert_exporter": "python",
   "pygments_lexer": "ipython3",
   "version": "3.8.12"
  }
 },
 "nbformat": 4,
 "nbformat_minor": 5
}
