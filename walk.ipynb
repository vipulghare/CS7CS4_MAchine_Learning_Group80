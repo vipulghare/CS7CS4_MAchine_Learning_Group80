{
 "cells": [
  {
   "cell_type": "code",
   "execution_count": 38,
   "id": "2994a77d",
   "metadata": {},
   "outputs": [],
   "source": [
    "import pandas as pd\n",
    "import seaborn as sb"
   ]
  },
  {
   "cell_type": "code",
   "execution_count": 39,
   "id": "de0e3820",
   "metadata": {},
   "outputs": [],
   "source": [
    "ACC = pd.read_csv(\"ACC1.csv\")"
   ]
  },
  {
   "cell_type": "code",
   "execution_count": 40,
   "id": "9ecf4d48",
   "metadata": {},
   "outputs": [],
   "source": [
    "GYR = pd.read_csv(\"GYR1.csv\")"
   ]
  },
  {
   "cell_type": "code",
   "execution_count": 41,
   "id": "46fe2d18",
   "metadata": {},
   "outputs": [],
   "source": [
    "temptime = []\n",
    "for i in range(len(ACC)):\n",
    "    temptime.append(int(ACC[\"time\"][i]/100))"
   ]
  },
  {
   "cell_type": "code",
   "execution_count": 42,
   "id": "9426fca6",
   "metadata": {},
   "outputs": [],
   "source": [
    "ACC['UpdatedTime'] = temptime"
   ]
  },
  {
   "cell_type": "code",
   "execution_count": 43,
   "id": "bee1c1e1",
   "metadata": {},
   "outputs": [],
   "source": [
    "ACC = ACC.drop(columns=[\"time\"])"
   ]
  },
  {
   "cell_type": "code",
   "execution_count": 44,
   "id": "7c18d33c",
   "metadata": {},
   "outputs": [],
   "source": [
    "temptime = []\n",
    "for i in range(len(GYR)):\n",
    "    temptime.append(int(GYR[\"time\"][i]/100))"
   ]
  },
  {
   "cell_type": "code",
   "execution_count": 45,
   "id": "3ccb3849",
   "metadata": {},
   "outputs": [],
   "source": [
    "GYR['UpdatedTime'] = temptime"
   ]
  },
  {
   "cell_type": "code",
   "execution_count": 46,
   "id": "2a9e5e93",
   "metadata": {},
   "outputs": [],
   "source": [
    "GYR = GYR.drop(columns=[\"time\"])"
   ]
  },
  {
   "cell_type": "code",
   "execution_count": 47,
   "id": "0e86f91b",
   "metadata": {},
   "outputs": [
    {
     "data": {
      "text/html": [
       "<div>\n",
       "<style scoped>\n",
       "    .dataframe tbody tr th:only-of-type {\n",
       "        vertical-align: middle;\n",
       "    }\n",
       "\n",
       "    .dataframe tbody tr th {\n",
       "        vertical-align: top;\n",
       "    }\n",
       "\n",
       "    .dataframe thead th {\n",
       "        text-align: right;\n",
       "    }\n",
       "</style>\n",
       "<table border=\"1\" class=\"dataframe\">\n",
       "  <thead>\n",
       "    <tr style=\"text-align: right;\">\n",
       "      <th></th>\n",
       "      <th>x</th>\n",
       "      <th>y</th>\n",
       "      <th>z</th>\n",
       "      <th>UpdatedTime</th>\n",
       "    </tr>\n",
       "  </thead>\n",
       "  <tbody>\n",
       "    <tr>\n",
       "      <th>0</th>\n",
       "      <td>0.007473</td>\n",
       "      <td>0.365672</td>\n",
       "      <td>0.160295</td>\n",
       "      <td>16698096425</td>\n",
       "    </tr>\n",
       "    <tr>\n",
       "      <th>1</th>\n",
       "      <td>-0.064972</td>\n",
       "      <td>-0.013190</td>\n",
       "      <td>0.019923</td>\n",
       "      <td>16698096425</td>\n",
       "    </tr>\n",
       "    <tr>\n",
       "      <th>2</th>\n",
       "      <td>-0.124063</td>\n",
       "      <td>-0.082707</td>\n",
       "      <td>0.036446</td>\n",
       "      <td>16698096426</td>\n",
       "    </tr>\n",
       "    <tr>\n",
       "      <th>3</th>\n",
       "      <td>0.051650</td>\n",
       "      <td>-0.191634</td>\n",
       "      <td>0.043220</td>\n",
       "      <td>16698096426</td>\n",
       "    </tr>\n",
       "    <tr>\n",
       "      <th>4</th>\n",
       "      <td>-0.063707</td>\n",
       "      <td>-0.038311</td>\n",
       "      <td>0.077849</td>\n",
       "      <td>16698096427</td>\n",
       "    </tr>\n",
       "    <tr>\n",
       "      <th>...</th>\n",
       "      <td>...</td>\n",
       "      <td>...</td>\n",
       "      <td>...</td>\n",
       "      <td>...</td>\n",
       "    </tr>\n",
       "    <tr>\n",
       "      <th>5855</th>\n",
       "      <td>0.184560</td>\n",
       "      <td>0.181505</td>\n",
       "      <td>-0.028891</td>\n",
       "      <td>16698099331</td>\n",
       "    </tr>\n",
       "    <tr>\n",
       "      <th>5856</th>\n",
       "      <td>0.182949</td>\n",
       "      <td>0.273558</td>\n",
       "      <td>-0.052849</td>\n",
       "      <td>16698099332</td>\n",
       "    </tr>\n",
       "    <tr>\n",
       "      <th>5857</th>\n",
       "      <td>0.218065</td>\n",
       "      <td>0.437005</td>\n",
       "      <td>-0.151612</td>\n",
       "      <td>16698099332</td>\n",
       "    </tr>\n",
       "    <tr>\n",
       "      <th>5858</th>\n",
       "      <td>-0.476366</td>\n",
       "      <td>0.391010</td>\n",
       "      <td>-0.027793</td>\n",
       "      <td>16698099333</td>\n",
       "    </tr>\n",
       "    <tr>\n",
       "      <th>5859</th>\n",
       "      <td>0.171384</td>\n",
       "      <td>-0.299421</td>\n",
       "      <td>-0.014678</td>\n",
       "      <td>16698099333</td>\n",
       "    </tr>\n",
       "  </tbody>\n",
       "</table>\n",
       "<p>5860 rows × 4 columns</p>\n",
       "</div>"
      ],
      "text/plain": [
       "             x         y         z  UpdatedTime\n",
       "0     0.007473  0.365672  0.160295  16698096425\n",
       "1    -0.064972 -0.013190  0.019923  16698096425\n",
       "2    -0.124063 -0.082707  0.036446  16698096426\n",
       "3     0.051650 -0.191634  0.043220  16698096426\n",
       "4    -0.063707 -0.038311  0.077849  16698096427\n",
       "...        ...       ...       ...          ...\n",
       "5855  0.184560  0.181505 -0.028891  16698099331\n",
       "5856  0.182949  0.273558 -0.052849  16698099332\n",
       "5857  0.218065  0.437005 -0.151612  16698099332\n",
       "5858 -0.476366  0.391010 -0.027793  16698099333\n",
       "5859  0.171384 -0.299421 -0.014678  16698099333\n",
       "\n",
       "[5860 rows x 4 columns]"
      ]
     },
     "execution_count": 47,
     "metadata": {},
     "output_type": "execute_result"
    }
   ],
   "source": [
    "GYR"
   ]
  },
  {
   "cell_type": "code",
   "execution_count": 48,
   "id": "0016c0fc",
   "metadata": {},
   "outputs": [],
   "source": [
    "Maindf = pd.merge(ACC, GYR, on='UpdatedTime')"
   ]
  },
  {
   "cell_type": "code",
   "execution_count": 49,
   "id": "3f288865",
   "metadata": {},
   "outputs": [],
   "source": [
    "for i in range(len(Maindf)-1):\n",
    "    if(Maindf.UpdatedTime[i] == Maindf.UpdatedTime[i+1]):\n",
    "        Maindf = Maindf.drop(labels=[i])"
   ]
  },
  {
   "cell_type": "code",
   "execution_count": 51,
   "id": "57cfe1a9",
   "metadata": {},
   "outputs": [],
   "source": [
    "Maindf.index = range(0,len(Maindf),1)"
   ]
  },
  {
   "cell_type": "code",
   "execution_count": 52,
   "id": "f271d4af",
   "metadata": {},
   "outputs": [
    {
     "data": {
      "text/html": [
       "<div>\n",
       "<style scoped>\n",
       "    .dataframe tbody tr th:only-of-type {\n",
       "        vertical-align: middle;\n",
       "    }\n",
       "\n",
       "    .dataframe tbody tr th {\n",
       "        vertical-align: top;\n",
       "    }\n",
       "\n",
       "    .dataframe thead th {\n",
       "        text-align: right;\n",
       "    }\n",
       "</style>\n",
       "<table border=\"1\" class=\"dataframe\">\n",
       "  <thead>\n",
       "    <tr style=\"text-align: right;\">\n",
       "      <th></th>\n",
       "      <th>x_x</th>\n",
       "      <th>y_x</th>\n",
       "      <th>z_x</th>\n",
       "      <th>UpdatedTime</th>\n",
       "      <th>x_y</th>\n",
       "      <th>y_y</th>\n",
       "      <th>z_y</th>\n",
       "    </tr>\n",
       "  </thead>\n",
       "  <tbody>\n",
       "    <tr>\n",
       "      <th>0</th>\n",
       "      <td>0.078629</td>\n",
       "      <td>-0.265152</td>\n",
       "      <td>-0.945786</td>\n",
       "      <td>16698096425</td>\n",
       "      <td>-0.064972</td>\n",
       "      <td>-0.013190</td>\n",
       "      <td>0.019923</td>\n",
       "    </tr>\n",
       "    <tr>\n",
       "      <th>1</th>\n",
       "      <td>0.084473</td>\n",
       "      <td>-0.258759</td>\n",
       "      <td>-0.940109</td>\n",
       "      <td>16698096426</td>\n",
       "      <td>0.051650</td>\n",
       "      <td>-0.191634</td>\n",
       "      <td>0.043220</td>\n",
       "    </tr>\n",
       "    <tr>\n",
       "      <th>2</th>\n",
       "      <td>0.067688</td>\n",
       "      <td>-0.274918</td>\n",
       "      <td>-0.980347</td>\n",
       "      <td>16698096427</td>\n",
       "      <td>-0.094567</td>\n",
       "      <td>-0.107003</td>\n",
       "      <td>-0.009332</td>\n",
       "    </tr>\n",
       "    <tr>\n",
       "      <th>3</th>\n",
       "      <td>0.017136</td>\n",
       "      <td>-0.268051</td>\n",
       "      <td>-1.011322</td>\n",
       "      <td>16698096428</td>\n",
       "      <td>-0.204464</td>\n",
       "      <td>0.090220</td>\n",
       "      <td>-0.149987</td>\n",
       "    </tr>\n",
       "    <tr>\n",
       "      <th>4</th>\n",
       "      <td>-0.201324</td>\n",
       "      <td>-0.030853</td>\n",
       "      <td>-1.149490</td>\n",
       "      <td>16698096429</td>\n",
       "      <td>-0.355670</td>\n",
       "      <td>0.991871</td>\n",
       "      <td>-0.638818</td>\n",
       "    </tr>\n",
       "    <tr>\n",
       "      <th>...</th>\n",
       "      <td>...</td>\n",
       "      <td>...</td>\n",
       "      <td>...</td>\n",
       "      <td>...</td>\n",
       "      <td>...</td>\n",
       "      <td>...</td>\n",
       "      <td>...</td>\n",
       "    </tr>\n",
       "    <tr>\n",
       "      <th>2782</th>\n",
       "      <td>0.284393</td>\n",
       "      <td>-0.505325</td>\n",
       "      <td>-0.874969</td>\n",
       "      <td>16698099226</td>\n",
       "      <td>-0.221968</td>\n",
       "      <td>-0.000609</td>\n",
       "      <td>-0.370371</td>\n",
       "    </tr>\n",
       "    <tr>\n",
       "      <th>2783</th>\n",
       "      <td>0.279831</td>\n",
       "      <td>-0.376572</td>\n",
       "      <td>-1.018173</td>\n",
       "      <td>16698099227</td>\n",
       "      <td>-0.539344</td>\n",
       "      <td>0.015450</td>\n",
       "      <td>-0.138936</td>\n",
       "    </tr>\n",
       "    <tr>\n",
       "      <th>2784</th>\n",
       "      <td>0.291779</td>\n",
       "      <td>-0.184692</td>\n",
       "      <td>-1.095352</td>\n",
       "      <td>16698099228</td>\n",
       "      <td>-0.277669</td>\n",
       "      <td>0.153220</td>\n",
       "      <td>0.026505</td>\n",
       "    </tr>\n",
       "    <tr>\n",
       "      <th>2785</th>\n",
       "      <td>0.270050</td>\n",
       "      <td>-0.148026</td>\n",
       "      <td>-0.986832</td>\n",
       "      <td>16698099229</td>\n",
       "      <td>0.322154</td>\n",
       "      <td>0.754917</td>\n",
       "      <td>0.286527</td>\n",
       "    </tr>\n",
       "    <tr>\n",
       "      <th>2786</th>\n",
       "      <td>0.438843</td>\n",
       "      <td>-0.230865</td>\n",
       "      <td>-0.787521</td>\n",
       "      <td>16698099230</td>\n",
       "      <td>-0.606899</td>\n",
       "      <td>0.679598</td>\n",
       "      <td>0.577256</td>\n",
       "    </tr>\n",
       "  </tbody>\n",
       "</table>\n",
       "<p>2787 rows × 7 columns</p>\n",
       "</div>"
      ],
      "text/plain": [
       "           x_x       y_x       z_x  UpdatedTime       x_y       y_y       z_y\n",
       "0     0.078629 -0.265152 -0.945786  16698096425 -0.064972 -0.013190  0.019923\n",
       "1     0.084473 -0.258759 -0.940109  16698096426  0.051650 -0.191634  0.043220\n",
       "2     0.067688 -0.274918 -0.980347  16698096427 -0.094567 -0.107003 -0.009332\n",
       "3     0.017136 -0.268051 -1.011322  16698096428 -0.204464  0.090220 -0.149987\n",
       "4    -0.201324 -0.030853 -1.149490  16698096429 -0.355670  0.991871 -0.638818\n",
       "...        ...       ...       ...          ...       ...       ...       ...\n",
       "2782  0.284393 -0.505325 -0.874969  16698099226 -0.221968 -0.000609 -0.370371\n",
       "2783  0.279831 -0.376572 -1.018173  16698099227 -0.539344  0.015450 -0.138936\n",
       "2784  0.291779 -0.184692 -1.095352  16698099228 -0.277669  0.153220  0.026505\n",
       "2785  0.270050 -0.148026 -0.986832  16698099229  0.322154  0.754917  0.286527\n",
       "2786  0.438843 -0.230865 -0.787521  16698099230 -0.606899  0.679598  0.577256\n",
       "\n",
       "[2787 rows x 7 columns]"
      ]
     },
     "execution_count": 52,
     "metadata": {},
     "output_type": "execute_result"
    }
   ],
   "source": [
    "Maindf"
   ]
  },
  {
   "cell_type": "code",
   "execution_count": 66,
   "id": "df8e33b7",
   "metadata": {},
   "outputs": [],
   "source": [
    "def walk_df(acc,gyr):\n",
    "    ACC = pd.read_csv(acc)\n",
    "    GYR = pd.read_csv(gyr)\n",
    "    ACC = ACC.rename(columns={\"x\":\"accx\",\"y\":\"accy\",\"z\":\"accz\"})\n",
    "    GYR = GYR.rename(columns={\"x\":\"gyrx\",\"y\":\"gyry\",\"z\":\"gyrz\"})\n",
    "    temptime = []\n",
    "    for i in range(len(ACC)):\n",
    "        temptime.append(int(ACC[\"time\"][i]/100))\n",
    "    ACC['UpdatedTime'] = temptime\n",
    "    ACC = ACC.drop(columns=[\"time\"])\n",
    "    temptime = []\n",
    "    for i in range(len(GYR)):\n",
    "        temptime.append(int(GYR[\"time\"][i]/100))\n",
    "    GYR['UpdatedTime'] = temptime\n",
    "    GYR = GYR.drop(columns=[\"time\"])\n",
    "    df = pd.merge(ACC, GYR, on='UpdatedTime')\n",
    "    for i in range(len(df)-1):\n",
    "        if(df.UpdatedTime[i] == df.UpdatedTime[i+1]):\n",
    "            df = df.drop(labels=[i])\n",
    "    return df"
   ]
  },
  {
   "cell_type": "code",
   "execution_count": 67,
   "id": "1cf69273",
   "metadata": {},
   "outputs": [],
   "source": [
    "df1 = walk_df(\"ACC1.csv\",\"GYR1.csv\")"
   ]
  },
  {
   "cell_type": "code",
   "execution_count": 68,
   "id": "f332b7c7",
   "metadata": {},
   "outputs": [],
   "source": [
    "df2 = walk_df(\"ACC2.csv\",\"GYR2.csv\")"
   ]
  },
  {
   "cell_type": "code",
   "execution_count": 69,
   "id": "a9f4b86b",
   "metadata": {},
   "outputs": [],
   "source": [
    "df3 = walk_df(\"ACC3.csv\",\"GYR3.csv\")"
   ]
  },
  {
   "cell_type": "code",
   "execution_count": 70,
   "id": "cea0a330",
   "metadata": {},
   "outputs": [],
   "source": [
    "df4 = walk_df(\"ACC4.csv\",\"GYR4.csv\")"
   ]
  },
  {
   "cell_type": "code",
   "execution_count": 71,
   "id": "0115a3d1",
   "metadata": {},
   "outputs": [],
   "source": [
    "df5 = walk_df(\"ACC5.csv\",\"GYR5.csv\")"
   ]
  },
  {
   "cell_type": "code",
   "execution_count": 72,
   "id": "e1df9f7e",
   "metadata": {},
   "outputs": [],
   "source": [
    "WALKDF = pd.concat([df1,df2,df3,df4,df5,df5])"
   ]
  },
  {
   "cell_type": "code",
   "execution_count": 73,
   "id": "51844e11",
   "metadata": {},
   "outputs": [
    {
     "data": {
      "text/html": [
       "<div>\n",
       "<style scoped>\n",
       "    .dataframe tbody tr th:only-of-type {\n",
       "        vertical-align: middle;\n",
       "    }\n",
       "\n",
       "    .dataframe tbody tr th {\n",
       "        vertical-align: top;\n",
       "    }\n",
       "\n",
       "    .dataframe thead th {\n",
       "        text-align: right;\n",
       "    }\n",
       "</style>\n",
       "<table border=\"1\" class=\"dataframe\">\n",
       "  <thead>\n",
       "    <tr style=\"text-align: right;\">\n",
       "      <th></th>\n",
       "      <th>accx</th>\n",
       "      <th>accy</th>\n",
       "      <th>accz</th>\n",
       "      <th>UpdatedTime</th>\n",
       "      <th>gyrx</th>\n",
       "      <th>gyry</th>\n",
       "      <th>gyrz</th>\n",
       "    </tr>\n",
       "  </thead>\n",
       "  <tbody>\n",
       "    <tr>\n",
       "      <th>1</th>\n",
       "      <td>0.078629</td>\n",
       "      <td>-0.265152</td>\n",
       "      <td>-0.945786</td>\n",
       "      <td>16698096425</td>\n",
       "      <td>-0.064972</td>\n",
       "      <td>-0.013190</td>\n",
       "      <td>0.019923</td>\n",
       "    </tr>\n",
       "    <tr>\n",
       "      <th>3</th>\n",
       "      <td>0.084473</td>\n",
       "      <td>-0.258759</td>\n",
       "      <td>-0.940109</td>\n",
       "      <td>16698096426</td>\n",
       "      <td>0.051650</td>\n",
       "      <td>-0.191634</td>\n",
       "      <td>0.043220</td>\n",
       "    </tr>\n",
       "    <tr>\n",
       "      <th>5</th>\n",
       "      <td>0.067688</td>\n",
       "      <td>-0.274918</td>\n",
       "      <td>-0.980347</td>\n",
       "      <td>16698096427</td>\n",
       "      <td>-0.094567</td>\n",
       "      <td>-0.107003</td>\n",
       "      <td>-0.009332</td>\n",
       "    </tr>\n",
       "    <tr>\n",
       "      <th>7</th>\n",
       "      <td>0.017136</td>\n",
       "      <td>-0.268051</td>\n",
       "      <td>-1.011322</td>\n",
       "      <td>16698096428</td>\n",
       "      <td>-0.204464</td>\n",
       "      <td>0.090220</td>\n",
       "      <td>-0.149987</td>\n",
       "    </tr>\n",
       "    <tr>\n",
       "      <th>9</th>\n",
       "      <td>-0.201324</td>\n",
       "      <td>-0.030853</td>\n",
       "      <td>-1.149490</td>\n",
       "      <td>16698096429</td>\n",
       "      <td>-0.355670</td>\n",
       "      <td>0.991871</td>\n",
       "      <td>-0.638818</td>\n",
       "    </tr>\n",
       "    <tr>\n",
       "      <th>...</th>\n",
       "      <td>...</td>\n",
       "      <td>...</td>\n",
       "      <td>...</td>\n",
       "      <td>...</td>\n",
       "      <td>...</td>\n",
       "      <td>...</td>\n",
       "      <td>...</td>\n",
       "    </tr>\n",
       "    <tr>\n",
       "      <th>11441</th>\n",
       "      <td>-0.132354</td>\n",
       "      <td>0.538211</td>\n",
       "      <td>0.549622</td>\n",
       "      <td>16698133732</td>\n",
       "      <td>0.306212</td>\n",
       "      <td>0.289438</td>\n",
       "      <td>0.214500</td>\n",
       "    </tr>\n",
       "    <tr>\n",
       "      <th>11445</th>\n",
       "      <td>-0.171618</td>\n",
       "      <td>0.423187</td>\n",
       "      <td>0.971586</td>\n",
       "      <td>16698133733</td>\n",
       "      <td>-0.014438</td>\n",
       "      <td>0.347050</td>\n",
       "      <td>0.072738</td>\n",
       "    </tr>\n",
       "    <tr>\n",
       "      <th>11449</th>\n",
       "      <td>-0.231685</td>\n",
       "      <td>0.479567</td>\n",
       "      <td>0.768152</td>\n",
       "      <td>16698133734</td>\n",
       "      <td>-0.022962</td>\n",
       "      <td>0.287375</td>\n",
       "      <td>0.053625</td>\n",
       "    </tr>\n",
       "    <tr>\n",
       "      <th>11453</th>\n",
       "      <td>-0.303972</td>\n",
       "      <td>0.449389</td>\n",
       "      <td>0.882151</td>\n",
       "      <td>16698133735</td>\n",
       "      <td>-0.494862</td>\n",
       "      <td>0.089237</td>\n",
       "      <td>-0.010312</td>\n",
       "    </tr>\n",
       "    <tr>\n",
       "      <th>11455</th>\n",
       "      <td>-0.371579</td>\n",
       "      <td>0.515772</td>\n",
       "      <td>0.925897</td>\n",
       "      <td>16698133736</td>\n",
       "      <td>-0.046475</td>\n",
       "      <td>-0.439175</td>\n",
       "      <td>0.139975</td>\n",
       "    </tr>\n",
       "  </tbody>\n",
       "</table>\n",
       "<p>17905 rows × 7 columns</p>\n",
       "</div>"
      ],
      "text/plain": [
       "           accx      accy      accz  UpdatedTime      gyrx      gyry      gyrz\n",
       "1      0.078629 -0.265152 -0.945786  16698096425 -0.064972 -0.013190  0.019923\n",
       "3      0.084473 -0.258759 -0.940109  16698096426  0.051650 -0.191634  0.043220\n",
       "5      0.067688 -0.274918 -0.980347  16698096427 -0.094567 -0.107003 -0.009332\n",
       "7      0.017136 -0.268051 -1.011322  16698096428 -0.204464  0.090220 -0.149987\n",
       "9     -0.201324 -0.030853 -1.149490  16698096429 -0.355670  0.991871 -0.638818\n",
       "...         ...       ...       ...          ...       ...       ...       ...\n",
       "11441 -0.132354  0.538211  0.549622  16698133732  0.306212  0.289438  0.214500\n",
       "11445 -0.171618  0.423187  0.971586  16698133733 -0.014438  0.347050  0.072738\n",
       "11449 -0.231685  0.479567  0.768152  16698133734 -0.022962  0.287375  0.053625\n",
       "11453 -0.303972  0.449389  0.882151  16698133735 -0.494862  0.089237 -0.010312\n",
       "11455 -0.371579  0.515772  0.925897  16698133736 -0.046475 -0.439175  0.139975\n",
       "\n",
       "[17905 rows x 7 columns]"
      ]
     },
     "execution_count": 73,
     "metadata": {},
     "output_type": "execute_result"
    }
   ],
   "source": [
    "WALKDF"
   ]
  },
  {
   "cell_type": "code",
   "execution_count": null,
   "id": "3c488405",
   "metadata": {},
   "outputs": [],
   "source": []
  },
  {
   "cell_type": "code",
   "execution_count": 74,
   "id": "e534281f",
   "metadata": {},
   "outputs": [],
   "source": [
    "WALKDF.index = range(0,len(WALKDF),1)"
   ]
  },
  {
   "cell_type": "code",
   "execution_count": 81,
   "id": "3b86b0d2",
   "metadata": {},
   "outputs": [],
   "source": [
    "plotwalkdf =  WALKDF.iloc[0:500,:]"
   ]
  },
  {
   "cell_type": "code",
   "execution_count": 82,
   "id": "c446fedf",
   "metadata": {},
   "outputs": [
    {
     "data": {
      "text/plain": [
       "<AxesSubplot:xlabel='UpdatedTime', ylabel='accx'>"
      ]
     },
     "execution_count": 82,
     "metadata": {},
     "output_type": "execute_result"
    },
    {
     "data": {
      "image/png": "[encoded data removed]",
      "text/plain": [
       "<Figure size 432x288 with 1 Axes>"
      ]
     },
     "metadata": {
      "needs_background": "light"
     },
     "output_type": "display_data"
    }
   ],
   "source": [
    "sb.lineplot(y = 'accx', x = 'UpdatedTime', data = plotwalkdf)\n",
    "sb.lineplot(y = 'accy', x = 'UpdatedTime', data = plotwalkdf)\n",
    "sb.lineplot(y = 'accz', x = 'UpdatedTime', data = plotwalkdf)"
   ]
  },
  {
   "cell_type": "code",
   "execution_count": 83,
   "id": "03081df7",
   "metadata": {},
   "outputs": [
    {
     "data": {
      "text/plain": [
       "<AxesSubplot:xlabel='UpdatedTime', ylabel='gyrx'>"
      ]
     },
     "execution_count": 83,
     "metadata": {},
     "output_type": "execute_result"
    },
    {
     "data": {
      "image/png": "[encoded data removed]",
      "text/plain": [
       "<Figure size 432x288 with 1 Axes>"
      ]
     },
     "metadata": {
      "needs_background": "light"
     },
     "output_type": "display_data"
    }
   ],
   "source": [
    "sb.lineplot(y = 'gyrx', x = 'UpdatedTime', data = plotwalkdf)\n",
    "sb.lineplot(y = 'gyry', x = 'UpdatedTime', data = plotwalkdf)\n",
    "sb.lineplot(y = 'gyrz', x = 'UpdatedTime', data = plotwalkdf)"
   ]
  },
  {
   "cell_type": "code",
   "execution_count": 84,
   "id": "94830fc6",
   "metadata": {},
   "outputs": [],
   "source": [
    "Label = []\n",
    "for i in range(len(WALKDF)):\n",
    "    Label.append(\"walking\")"
   ]
  },
  {
   "cell_type": "code",
   "execution_count": 85,
   "id": "9c7a8258",
   "metadata": {},
   "outputs": [],
   "source": [
    "WALKDF[\"Label\"] = Label"
   ]
  },
  {
   "cell_type": "code",
   "execution_count": 86,
   "id": "eee4b44f",
   "metadata": {},
   "outputs": [],
   "source": [
    "WALKDF.to_csv(\"WALK.csv\",index=False)"
   ]
  }
 ],
 "metadata": {
  "kernelspec": {
   "display_name": "Python 3 (ipykernel)",
   "language": "python",
   "name": "python3"
  },
  "language_info": {
   "codemirror_mode": {
    "name": "ipython",
    "version": 3
   },
   "file_extension": ".py",
   "mimetype": "text/x-python",
   "name": "python",
   "nbconvert_exporter": "python",
   "pygments_lexer": "ipython3",
   "version": "3.8.12"
  }
 },
 "nbformat": 4,
 "nbformat_minor": 5
}
